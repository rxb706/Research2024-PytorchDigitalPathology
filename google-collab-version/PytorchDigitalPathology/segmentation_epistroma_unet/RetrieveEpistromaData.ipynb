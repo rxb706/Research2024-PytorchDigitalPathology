{
    "cells": [
        {
            "cell_type": "markdown",
            "metadata": {
                "id": "y230qH8CDPHT"
            },
            "source": [
                "Obtaining the data for Epistroma Segmentation."
            ]
        },
        {
            "cell_type": "code",
            "execution_count": 1,
            "metadata": {
                "id": "8IPcYAOWDHzu"
            },
            "outputs": [
                {
                    "name": "stderr",
                    "output_type": "stream",
                    "text": [
                        "'wget' is not recognized as an internal or external command,\n",
                        "operable program or batch file.\n"
                    ]
                }
            ],
            "source": [
                "!wget http://andrewjanowczyk.com/wp-static/epi.tgz"
            ]
        },
        {
            "cell_type": "code",
            "execution_count": null,
            "metadata": {
                "id": "VKG9oETUERxH"
            },
            "outputs": [],
            "source": [
                "from google.colab import drive\n",
                "drive.mount('/gdrive')\n",
                "%cd /gdrive"
            ]
        },
        {
            "cell_type": "code",
            "execution_count": null,
            "metadata": {
                "id": "CQX3Kj9nEarr"
            },
            "outputs": [],
            "source": [
                "%cd MyDrive/PytorchDigitalPathology/google-collab-version/PytorchDigitalPathology/segmentation_epistroma_unet\n"
            ]
        },
        {
            "cell_type": "code",
            "execution_count": null,
            "metadata": {
                "id": "PRIhfuRsEsrr"
            },
            "outputs": [],
            "source": [
                "%mkdir data\n",
                "%ls"
            ]
        },
        {
            "cell_type": "code",
            "execution_count": null,
            "metadata": {
                "id": "1eyLcoTNE1_E"
            },
            "outputs": [],
            "source": [
                "%cd data"
            ]
        },
        {
            "cell_type": "code",
            "execution_count": null,
            "metadata": {
                "id": "ibTu74mYFYiU"
            },
            "outputs": [],
            "source": []
        },
        {
            "cell_type": "code",
            "execution_count": null,
            "metadata": {
                "id": "3cwe3JZpFJ3i"
            },
            "outputs": [],
            "source": [
                "!tar --gunzip --extract --verbose --file=/content/epi.tgz"
            ]
        },
        {
            "cell_type": "code",
            "execution_count": null,
            "metadata": {
                "id": "sPeeVZeQDTyk"
            },
            "outputs": [],
            "source": []
        }
    ],
    "metadata": {
        "colab": {
            "collapsed_sections": [],
            "name": "RetrieveEpistromaData.ipynb",
            "provenance": []
        },
        "kernelspec": {
            "display_name": "Python 3",
            "name": "python3"
        },
        "language_info": {
            "codemirror_mode": {
                "name": "ipython",
                "version": 3
            },
            "file_extension": ".py",
            "mimetype": "text/x-python",
            "name": "python",
            "nbconvert_exporter": "python",
            "pygments_lexer": "ipython3",
            "version": "3.11.8"
        }
    },
    "nbformat": 4,
    "nbformat_minor": 0
}
