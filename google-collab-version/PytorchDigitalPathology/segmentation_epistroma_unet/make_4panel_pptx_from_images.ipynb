{
 "cells": [
  {
   "cell_type": "code",
   "execution_count": null,
   "metadata": {},
   "outputs": [],
   "source": [
    "from google.colab import drive\n",
    "drive.mount('/gdrive')"
   ]
  },
  {
   "cell_type": "code",
   "execution_count": null,
   "metadata": {},
   "outputs": [],
   "source": [
    "%cd /gdrive/My\\ Drive/PytorchDigitalPathology/segmentation_epistroma_unet"
   ]
  },
  {
   "cell_type": "code",
   "execution_count": null,
   "metadata": {},
   "outputs": [],
   "source": [
    "# ---\n",
    "# jupyter:\n",
    "#   jupytext:\n",
    "#     formats: ipynb,py:light\n",
    "#     text_representation:\n",
    "#       extension: .py\n",
    "#       format_name: light\n",
    "#       format_version: '1.5'\n",
    "#       jupytext_version: 1.4.1\n",
    "#   kernelspec:\n",
    "#     display_name: Python 3\n",
    "#     language: python\n",
    "#     name: python3\n",
    "# ---\n",
    "\n",
    "# +\n",
    "from pptx import Presentation\n",
    "from pptx.util import Inches\n",
    "\n",
    "from datetime import datetime\n",
    "from skimage import color\n",
    "import glob\n",
    "import cv2\n",
    "import numpy as np\n",
    "from io import BytesIO\n",
    "from tqdm.autonotebook import tqdm\n",
    "import PIL.Image as Image\n"
   ]
  },
  {
   "cell_type": "code",
   "execution_count": null,
   "metadata": {},
   "outputs": [],
   "source": [
    "# +\n",
    "# -- Set meta data which will appear on first slide\n",
    "title = \"Epi/stroma segmentation\"\n",
    "date = datetime.today()\n",
    "author = \"Rohan Bhat\"\n",
    "comments = \"data and code taken from blog andrewjanowczyk.com \"\n",
    "pptxfname = \"epistroma_results.pptx\"\n",
    "\n",
    "#we only want to generate output for images which have masks, so we find those files\n",
    "mask_files=glob.glob('./masks/*.png')\n"
   ]
  },
  {
   "cell_type": "code",
   "execution_count": null,
   "metadata": {},
   "outputs": [],
   "source": [
    "\n",
    "# +\n",
    "#create presentation \n",
    "prs = Presentation()\n",
    "prs.slide_width = Inches(10)\n",
    "prs.slide_height = Inches(10)\n",
    "\n",
    "blank_slide_layout = prs.slide_layouts[1]\n",
    "slide = prs.slides.add_slide(blank_slide_layout)\n",
    "\n",
    "#make first slide with our metadata\n",
    "slide.placeholders[0].text = title\n",
    "\n",
    "tf = slide.placeholders[1].text_frame\n",
    "tf.text = f'Date: {date}\\n'\n",
    "tf.text += f\"Author: {author}\\n\"\n",
    "tf.text += f\"Comments: {comments}\\n\"\n"
   ]
  },
  {
   "cell_type": "code",
   "execution_count": null,
   "metadata": {},
   "outputs": [],
   "source": [
    "\n",
    "# -\n",
    "\n",
    "#wrapper function to add an image as a byte stream to a slide\n",
    "#note that this is in place of having to save output directly to disk, and can be used in dynamic settings as well\n",
    "def addimagetoslide(slide,img,left,top, height, width, resize = .5):\n",
    "    res = cv2.resize(img , None, fx=resize,fy=resize ,interpolation=cv2.INTER_CUBIC) #since the images are going to be small, we can resize them to prevent the final pptx file from being large for no reason\n",
    "    image_stream = BytesIO()\n",
    "    Image.fromarray(res).save(image_stream,format=\"PNG\")\n",
    "\n",
    "    pic = slide.shapes.add_picture(image_stream, left, top ,height,width)\n",
    "    image_stream.close()\n",
    "\n",
    "\n",
    "#helper function to blend two images\n",
    "def blend2Images(img, mask):\n",
    "    if (img.ndim == 3):\n",
    "        img = color.rgb2gray(img)\n",
    "    if (mask.ndim == 3):\n",
    "        mask = color.rgb2gray(mask)\n",
    "    img = img[:, :, None] * 1.0  # can't use boolean\n",
    "    mask = mask[:, :, None] * 1.0\n",
    "    out = np.concatenate((mask, img, mask), 2) * 255\n",
    "    return out.astype('uint8')\n",
    "\n"
   ]
  },
  {
   "cell_type": "code",
   "execution_count": null,
   "metadata": {},
   "outputs": [],
   "source": [
    "\n",
    "# +\n",
    "for mask_fname in tqdm(mask_files):\n",
    "    \n",
    "    #add a new slide for this set of images \n",
    "    blank_slide_layout = prs.slide_layouts[0]\n",
    "    slide = prs.slides.add_slide(blank_slide_layout)\n",
    "\n",
    "    \n",
    "    #compute the associated filenames that we'll need\n",
    "    orig_fname=mask_fname.replace(\"./masks\",\"./imgs\").replace(\"_mask.png\",\".tif\")\n",
    "    output_fname=mask_fname.replace(\"./masks\",\"./output\").replace(\"_mask.png\",\"_class.png\")\n",
    "    \n",
    "    \n",
    "        \n",
    "    \n",
    "    #------- orig  - load and add to slide\n",
    "    img = cv2.cvtColor(cv2.imread(orig_fname),cv2.COLOR_BGR2RGB)\n",
    "    addimagetoslide(slide, img, Inches(0),Inches(0),Inches(5),Inches(5))\n",
    "    \n",
    "    #------ mask - load and add to slide\n",
    "    mask = cv2.cvtColor(cv2.imread(mask_fname),cv2.COLOR_BGR2RGB)\n",
    "    addimagetoslide(slide, mask, Inches(5),Inches(0),Inches(5),Inches(5))\n",
    "    \n",
    "    #------ output - load and add to slide\n",
    "    output = cv2.cvtColor(cv2.imread(output_fname),cv2.COLOR_BGR2RGB)\n",
    "    addimagetoslide(slide, output, Inches(5),Inches(5),Inches(5),Inches(5))\n",
    "    \n",
    "    #------ Fuse - load and add to slide\n",
    "    addimagetoslide(slide,blend2Images(output,mask), Inches(0),Inches(5),Inches(5),Inches(5))\n",
    "    \n",
    "    \n",
    "    #------ Lastly we can also add some metrics/results/values if we would like\n",
    "    # here we do simple FP/TP/TN/FN\n",
    "    txBox = slide.shapes.add_textbox(Inches(10), Inches(0),Inches(4),Inches(4) )\n",
    "    tf = txBox.text_frame\n",
    "    tf.text = f\"{orig_fname}\\n\"\n",
    "    tf.text += f\"Overall Pixel Agreement: {(output==mask).mean():.4f}\\n\"\n",
    "    tf.text += f\"True Positive Rate: {(mask[output>0]>0).sum()/(output>0).sum():.4f}\\n\"\n",
    "    tf.text += f\"False Positive Rate: {(mask[output==0]>0).sum()/(output==0).sum():.4f}\\n\"\n",
    "    tf.text += f\"True Negative Rate: {(mask[output==0]==0).sum()/(output==0).sum():.4f}\\n\"\n",
    "    tf.text += f\"False Negative Rate: {(mask[output>0]==0).sum()/(output>0).sum():.4f}\\n\"\n",
    "    \n",
    "    \n"
   ]
  },
  {
   "cell_type": "code",
   "execution_count": null,
   "metadata": {},
   "outputs": [],
   "source": [
    "#At this point the pptx has not been saved, so we do that here and we're all done!\n",
    "prs.save(pptxfname)"
   ]
  }
 ],
 "metadata": {
  "kernelspec": {
   "display_name": "Python 3",
   "language": "python",
   "name": "python3"
  },
  "language_info": {
   "codemirror_mode": {
    "name": "ipython",
    "version": 3
   },
   "file_extension": ".py",
   "mimetype": "text/x-python",
   "name": "python",
   "nbconvert_exporter": "python",
   "pygments_lexer": "ipython3",
   "version": "3.11.8"
  }
 },
 "nbformat": 4,
 "nbformat_minor": 2
}
